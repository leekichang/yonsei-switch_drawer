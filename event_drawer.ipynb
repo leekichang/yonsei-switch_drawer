{
 "metadata": {
  "language_info": {
   "codemirror_mode": {
    "name": "ipython",
    "version": 3
   },
   "file_extension": ".py",
   "mimetype": "text/x-python",
   "name": "python",
   "nbconvert_exporter": "python",
   "pygments_lexer": "ipython3",
   "version": "3.7.9-final"
  },
  "orig_nbformat": 2,
  "kernelspec": {
   "name": "python3",
   "display_name": "Python 3",
   "language": "python"
  }
 },
 "nbformat": 4,
 "nbformat_minor": 2,
 "cells": [
  {
   "cell_type": "code",
   "execution_count": 48,
   "metadata": {},
   "outputs": [],
   "source": [
    "import pandas as pd\n",
    "\n",
    "df = pd.read_csv(\"test.csv\", encoding='utf-8')\n",
    "correct_list = []\n",
    "\n",
    "def adding_list(answer):\n",
    "    correct_list\n",
    "    for i in range(len(df.loc[:,'타임스탬프'])):\n",
    "        temp = []\n",
    "        if(df.iloc[i, 6] == answer):\n",
    "            temp.append(df.iloc[i,2])\n",
    "            temp.append(df.iloc[i,3])\n",
    "            temp.append(df.iloc[i,4])\n",
    "            temp.append(df.iloc[i,5])\n",
    "            correct_list.append(temp)\n",
    "    return correct_list\n",
    "\n",
    "correct_list = adding_list('56대')\n"
   ]
  },
  {
   "cell_type": "code",
   "execution_count": 57,
   "metadata": {},
   "outputs": [
    {
     "output_type": "error",
     "ename": "IndexError",
     "evalue": "pop from empty list",
     "traceback": [
      "\u001b[1;31m---------------------------------------------------------------------------\u001b[0m",
      "\u001b[1;31mIndexError\u001b[0m                                Traceback (most recent call last)",
      "\u001b[1;32m<ipython-input-57-b7ab35faced9>\u001b[0m in \u001b[0;36m<module>\u001b[1;34m\u001b[0m\n\u001b[1;32m----> 1\u001b[1;33m \u001b[0mcorrect_list\u001b[0m\u001b[1;33m.\u001b[0m\u001b[0mpop\u001b[0m\u001b[1;33m(\u001b[0m\u001b[1;33m)\u001b[0m\u001b[1;33m\u001b[0m\u001b[1;33m\u001b[0m\u001b[0m\n\u001b[0m",
      "\u001b[1;31mIndexError\u001b[0m: pop from empty list"
     ]
    }
   ],
   "source": [
    "correct_list.pop(randi(0,len(df.loc[:,'타임스탬프'])))"
   ]
  }
 ]
}